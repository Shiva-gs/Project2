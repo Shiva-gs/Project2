{
 "cells": [
  {
   "cell_type": "code",
   "execution_count": 1,
   "metadata": {},
   "outputs": [],
   "source": [
    "# import library \n",
    "from bs4 import BeautifulSoup as bs\n",
    "import requests\n",
    "import json"
   ]
  },
  {
   "cell_type": "code",
   "execution_count": 2,
   "metadata": {},
   "outputs": [],
   "source": [
    "url_ny_bars = 'https://www.yelp.com/search?find_desc=Bars&find_loc=New+York%2C+NY'"
   ]
  },
  {
   "cell_type": "code",
   "execution_count": 3,
   "metadata": {},
   "outputs": [],
   "source": [
    "# usea funciton to get all the data from one page\n",
    "def souping(url):    \n",
    "    response = requests.get(url)\n",
    "    soup = bs(response.text,'html.parser')\n",
    "    return soup"
   ]
  },
  {
   "cell_type": "code",
   "execution_count": 4,
   "metadata": {},
   "outputs": [],
   "source": [
    "ny_soup_bars = souping(url_ny_bars)\n",
    "ny_name_bars = ny_soup_bars('a', class_ = 'lemon--a__373c0__IEZFH link__373c0__29943 link-color--blue-dark__373c0__1mhJo link-size--inherit__373c0__2JXk5')"
   ]
  },
  {
   "cell_type": "code",
   "execution_count": 5,
   "metadata": {},
   "outputs": [],
   "source": [
    "# get all the name\n",
    "#store the top 30 attraction into a list\n",
    "\n",
    "def find_title(rstrnt_name):\n",
    "    title_list = []\n",
    "    for name in rstrnt_name:\n",
    "        try:\n",
    "            title = name.text\n",
    "\n",
    "            if(title):\n",
    "\n",
    "                title_list.append(title)\n",
    "        except AttributeError as e:\n",
    "            print(e)\n",
    "\n",
    "    return title_list"
   ]
  },
  {
   "cell_type": "code",
   "execution_count": 6,
   "metadata": {},
   "outputs": [
    {
     "name": "stdout",
     "output_type": "stream",
     "text": [
      "['TRI Lounge & Cafe', 'read more', 'Los Tres Chiflados', 'read more', 'Jajaja', 'read more', 'The Dead Rabbit', 'read more', 'Hidden Lane', 'read more', 'Livingston Manor', 'read more', 'The Belfry', 'read more', 'The Up & Up', 'read more', 'Gowanus Gardens', 'read more', 'BED STUY Barb’s', 'read more', 'Boilery', 'read more', 'District Social', 'read more', 'Whiskey Tavern', 'read more', 'Attaboy', 'read more', 'Apothèke', 'read more', 'The Binc', 'read more', '1 Rooftop Garden & Bar', 'read more', 'Nitecap', 'read more', 'The Library', 'read more', 'FREEHOLD', 'read more', 'Someday Bar', 'read more', 'The Ship', 'read more', 'Botanica Bar', 'read more', 'The Dead Poet', 'read more', 'The Freak Bar', 'read more', 'The Flamingo', 'read more', 'The Tippler', 'read more', 'Elsa', 'read more', 'House Of Wax', 'read more', 'Superfine', 'read more', 'St Tropez - Soho', 'read more', 'More Topics', 'Some Data By Acxiom']\n"
     ]
    }
   ],
   "source": [
    "ny_title_bars = find_title(ny_name_bars)\n",
    "print(ny_title_bars)"
   ]
  },
  {
   "cell_type": "code",
   "execution_count": 7,
   "metadata": {},
   "outputs": [],
   "source": [
    "def clean_title(titles):\n",
    "    cleaned_list = []\n",
    "    for title in titles:\n",
    "        if title !=\"read more\":\n",
    "            cleaned_list.append(title)\n",
    "    return cleaned_list[1:31]"
   ]
  },
  {
   "cell_type": "code",
   "execution_count": 8,
   "metadata": {},
   "outputs": [
    {
     "data": {
      "text/plain": [
       "['Los Tres Chiflados',\n",
       " 'Jajaja',\n",
       " 'The Dead Rabbit',\n",
       " 'Hidden Lane',\n",
       " 'Livingston Manor',\n",
       " 'The Belfry',\n",
       " 'The Up & Up',\n",
       " 'Gowanus Gardens',\n",
       " 'BED STUY Barb’s',\n",
       " 'Boilery',\n",
       " 'District Social',\n",
       " 'Whiskey Tavern',\n",
       " 'Attaboy',\n",
       " 'Apothèke',\n",
       " 'The Binc',\n",
       " '1 Rooftop Garden & Bar',\n",
       " 'Nitecap',\n",
       " 'The Library',\n",
       " 'FREEHOLD',\n",
       " 'Someday Bar',\n",
       " 'The Ship',\n",
       " 'Botanica Bar',\n",
       " 'The Dead Poet',\n",
       " 'The Freak Bar',\n",
       " 'The Flamingo',\n",
       " 'The Tippler',\n",
       " 'Elsa',\n",
       " 'House Of Wax',\n",
       " 'Superfine',\n",
       " 'St Tropez - Soho']"
      ]
     },
     "execution_count": 8,
     "metadata": {},
     "output_type": "execute_result"
    }
   ],
   "source": [
    "ny_bars_title_cleaned = clean_title(ny_title_bars)\n",
    "ny_bars_title_cleaned"
   ]
  },
  {
   "cell_type": "code",
   "execution_count": 9,
   "metadata": {},
   "outputs": [],
   "source": [
    "def add_finder(city_soup):\n",
    "\n",
    "    # find add\n",
    "    adds = city_soup.find_all('p', class_=\"lemon--p__373c0__3Qnnj text__373c0__2pB8f text-color--normal__373c0__K_MKN text-align--right__373c0__3ARv7\")\n",
    "    #print(result_review)\n",
    "    add_list = []\n",
    "    for add in adds:\n",
    "        add_list.append(add.text)\n",
    "\n",
    "    \n",
    "    return add_list"
   ]
  },
  {
   "cell_type": "code",
   "execution_count": 10,
   "metadata": {},
   "outputs": [],
   "source": [
    "ny_bars_add = add_finder(ny_soup_bars)"
   ]
  },
  {
   "cell_type": "code",
   "execution_count": 11,
   "metadata": {},
   "outputs": [
    {
     "data": {
      "text/plain": [
       "['Showing 1-30 of 6877',\n",
       " '(718) 442-5800',\n",
       " '1938 Clove Rd',\n",
       " 'Concord',\n",
       " '(347) 350-6152',\n",
       " '1046 Flatbush Ave',\n",
       " 'Ditmas Park',\n",
       " '(917) 262-0184',\n",
       " '63 Carmine St',\n",
       " 'West Village',\n",
       " '(646) 422-7906',\n",
       " '30 Water St',\n",
       " 'Financial District',\n",
       " '(914) 414-5778',\n",
       " '129 E 15th St',\n",
       " 'Gramercy',\n",
       " '(347) 987-3292',\n",
       " '42 Hoyt St',\n",
       " 'Boerum Hill',\n",
       " '(212) 473-6590',\n",
       " '222 E 14th St',\n",
       " 'East Village',\n",
       " '(212) 260-3000',\n",
       " '116 MacDougal St',\n",
       " 'Greenwich Village',\n",
       " '(347) 799-2588',\n",
       " '256 4th Ave',\n",
       " 'Gowanus',\n",
       " '380A Marcus Garvey Blvd',\n",
       " 'Bedford Stuyvesant',\n",
       " '(646) 755-8968',\n",
       " '710 Amsterdam Ave',\n",
       " 'Upper West Side',\n",
       " '(212) 994-9599',\n",
       " '252 W 37th St',\n",
       " 'Midtown West',\n",
       " '(212) 374-9119',\n",
       " '79 Baxter St',\n",
       " 'Chinatown',\n",
       " '134 Eldridge St',\n",
       " 'Lower East Side',\n",
       " '(212) 406-0400',\n",
       " '9 Doyers St',\n",
       " 'Chinatown',\n",
       " '(718) 624-1444',\n",
       " '60 Henry St',\n",
       " 'Brooklyn Heights',\n",
       " '(347) 696-2505',\n",
       " 'Located in 1 Hotel Brooklyn Bridge',\n",
       " '151 Rivington St',\n",
       " 'Lower East Side',\n",
       " '(212) 375-1352',\n",
       " '7 Ave A',\n",
       " 'East Village',\n",
       " '(718) 388-7591',\n",
       " '45 S 3rd St',\n",
       " 'Williamsburg - South Side',\n",
       " '(929) 480-8454',\n",
       " '364 Atlantic Ave',\n",
       " 'Boerum Hill',\n",
       " '(212) 219-8496',\n",
       " '158 Lafayette St',\n",
       " 'SoHo',\n",
       " '(212) 343-7251',\n",
       " '47 E Houston St',\n",
       " 'Nolita',\n",
       " '(212) 595-5670',\n",
       " '450 Amsterdam Ave',\n",
       " 'Upper West Side',\n",
       " '(718) 372-5159',\n",
       " '1208 Surf Ave',\n",
       " 'Coney Island',\n",
       " '590 Fulton St',\n",
       " 'Fort Greene',\n",
       " '(212) 206-0000',\n",
       " '425 W 15th St',\n",
       " 'Meatpacking District',\n",
       " '(917) 882-7395',\n",
       " '136 Atlantic Ave',\n",
       " 'Cobble Hill',\n",
       " '(929) 382-5403',\n",
       " '445 Albee Square W',\n",
       " 'Downtown Brooklyn',\n",
       " '(646) 902-5859',\n",
       " '126 Front St',\n",
       " 'DUMBO',\n",
       " '(917) 261-4441',\n",
       " '194 Spring St',\n",
       " 'South Village']"
      ]
     },
     "execution_count": 11,
     "metadata": {},
     "output_type": "execute_result"
    }
   ],
   "source": [
    "ny_bars_add"
   ]
  },
  {
   "cell_type": "code",
   "execution_count": 24,
   "metadata": {},
   "outputs": [],
   "source": [
    "# # find the add from the list\n",
    "# def add_cleaner(adds):\n",
    "#     add_list = adds[4::]\n",
    "    \n",
    "#     add_cleaned = []\n",
    "#     for i in range(1,29):\n",
    "#         add_cleaned.append(add_list[3*i+1])\n",
    "\n",
    "#     return add_cleaned"
   ]
  },
  {
   "cell_type": "code",
   "execution_count": 12,
   "metadata": {},
   "outputs": [],
   "source": [
    "# ny_bars_add_clean = add_cleaner(ny_bars_add)\n",
    "# print(len(ny_bars_add_clean))\n",
    "# ny_bars_add_clean"
   ]
  },
  {
   "cell_type": "code",
   "execution_count": 13,
   "metadata": {},
   "outputs": [],
   "source": [
    " def review_finder(city_soup):  \n",
    "    # used the same methdo to obtain price for each restaurant \n",
    "    result_review = city_soup.find_all('span', class_=\"lemon--span__373c0__3997G text__373c0__2pB8f reviewCount__373c0__2r4xT text-color--mid__373c0__3G312 text-align--left__373c0__2pnx_\")\n",
    "    #print(result_review)\n",
    "    review_list = []\n",
    "    for review in result_review:\n",
    "        review_list.append(review.text)\n",
    "\n",
    "    return review_list[1::]"
   ]
  },
  {
   "cell_type": "code",
   "execution_count": 14,
   "metadata": {},
   "outputs": [
    {
     "data": {
      "text/plain": [
       "['88 reviews',\n",
       " '73 reviews',\n",
       " '1531 reviews',\n",
       " '11 reviews',\n",
       " '119 reviews',\n",
       " '509 reviews',\n",
       " '425 reviews',\n",
       " '10 reviews',\n",
       " '1 review',\n",
       " '94 reviews',\n",
       " '661 reviews',\n",
       " '771 reviews',\n",
       " '531 reviews',\n",
       " '1440 reviews',\n",
       " '69 reviews',\n",
       " '47 reviews',\n",
       " '328 reviews',\n",
       " '405 reviews',\n",
       " '504 reviews',\n",
       " '16 reviews',\n",
       " '324 reviews',\n",
       " '372 reviews',\n",
       " '417 reviews',\n",
       " '38 reviews',\n",
       " '62 reviews',\n",
       " '670 reviews',\n",
       " '102 reviews',\n",
       " '91 reviews',\n",
       " '448 reviews',\n",
       " '52 reviews']"
      ]
     },
     "execution_count": 14,
     "metadata": {},
     "output_type": "execute_result"
    }
   ],
   "source": [
    "ny_bars_reviews = review_finder(ny_soup_bars)\n",
    "ny_bars_reviews"
   ]
  },
  {
   "cell_type": "code",
   "execution_count": 32,
   "metadata": {},
   "outputs": [],
   "source": [
    " def cost_finder(city_soup):  \n",
    "    # used the same methdo to obtain price for each restaurant \n",
    "    result_cost = city_soup.find_all('span', class_=\"lemon--span__373c0__3997G text__373c0__2pB8f priceRange__373c0__2DY87 text-color--normal__373c0__K_MKN text-align--left__373c0__2pnx_ text-bullet--after__373c0__1ZHaA\")\n",
    "    #print(result_review)\n",
    "    cost_list = []\n",
    "    for cost in result_cost:\n",
    "        cost_list.append(cost.text)\n",
    "\n",
    "    return cost_list"
   ]
  },
  {
   "cell_type": "code",
   "execution_count": 37,
   "metadata": {},
   "outputs": [
    {
     "data": {
      "text/plain": [
       "['$$',\n",
       " '$$',\n",
       " '$$',\n",
       " '$$',\n",
       " '$$',\n",
       " '$$',\n",
       " '$$',\n",
       " '$$',\n",
       " '$$',\n",
       " '$$$',\n",
       " '$$',\n",
       " '$$$',\n",
       " '$$',\n",
       " '$',\n",
       " '$$',\n",
       " '$$',\n",
       " '$',\n",
       " '$$',\n",
       " '$$',\n",
       " '$$',\n",
       " '$$',\n",
       " '$$',\n",
       " '$$',\n",
       " '$$',\n",
       " '$$']"
      ]
     },
     "execution_count": 37,
     "metadata": {},
     "output_type": "execute_result"
    }
   ],
   "source": [
    "ny_bars_cost = cost_finder(ny_soup_bars)\n",
    "ny_bars_cost"
   ]
  },
  {
   "cell_type": "code",
   "execution_count": 38,
   "metadata": {},
   "outputs": [
    {
     "data": {
      "text/plain": [
       "['$$',\n",
       " '$$',\n",
       " '$$',\n",
       " 'unknown',\n",
       " '$$',\n",
       " '$$',\n",
       " '$$',\n",
       " 'unknown',\n",
       " 'unknown',\n",
       " 'unknown',\n",
       " '$$',\n",
       " '$$',\n",
       " '$$',\n",
       " '$$$',\n",
       " '$$',\n",
       " '$$$',\n",
       " '$$',\n",
       " '$',\n",
       " '$$',\n",
       " 'unknown',\n",
       " '$$',\n",
       " '$',\n",
       " '$$',\n",
       " '$$',\n",
       " '$$',\n",
       " '$$',\n",
       " '$$',\n",
       " '$$',\n",
       " '$$',\n",
       " '$$']"
      ]
     },
     "execution_count": 38,
     "metadata": {},
     "output_type": "execute_result"
    }
   ],
   "source": [
    "ny_bars_cost.insert(3,\"unknown\")\n",
    "ny_bars_cost.insert(7,\"unknown\")\n",
    "ny_bars_cost.insert(8,\"unknown\")\n",
    "ny_bars_cost.insert(9,\"unknown\")\n",
    "ny_bars_cost.insert(19,\"unknown\")\n",
    "ny_bars_cost"
   ]
  },
  {
   "cell_type": "code",
   "execution_count": 40,
   "metadata": {},
   "outputs": [],
   "source": [
    "ny_bars = {\n",
    "    \"name\":ny_bars_title_cleaned,\n",
    "    \"reviews\":ny_bars_reviews,\n",
    "    \"cost\":ny_bars_cost\n",
    "}"
   ]
  },
  {
   "cell_type": "code",
   "execution_count": 41,
   "metadata": {},
   "outputs": [],
   "source": [
    "# with open('ny_bars.json', 'w') as bars:\n",
    "#     json.dump(ny_bars, bars)"
   ]
  },
  {
   "cell_type": "code",
   "execution_count": null,
   "metadata": {},
   "outputs": [],
   "source": []
  }
 ],
 "metadata": {
  "kernelspec": {
   "display_name": "Python 3",
   "language": "python",
   "name": "python3"
  },
  "language_info": {
   "codemirror_mode": {
    "name": "ipython",
    "version": 3
   },
   "file_extension": ".py",
   "mimetype": "text/x-python",
   "name": "python",
   "nbconvert_exporter": "python",
   "pygments_lexer": "ipython3",
   "version": "3.6.8"
  }
 },
 "nbformat": 4,
 "nbformat_minor": 2
}
