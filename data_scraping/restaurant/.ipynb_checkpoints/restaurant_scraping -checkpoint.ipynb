{
 "cells": [
  {
   "cell_type": "code",
   "execution_count": 1,
   "metadata": {},
   "outputs": [],
   "source": [
    "\n",
    "# import library \n",
    "from bs4 import BeautifulSoup as bs\n",
    "import requests\n",
    "import json"
   ]
  },
  {
   "cell_type": "code",
   "execution_count": 2,
   "metadata": {},
   "outputs": [],
   "source": [
    "# tripadviser url/retrieve page with the requests module/parse with 'html.parser\n",
    "url_ny = 'https://www.yelp.com/search?find_desc=Restaurants&find_loc=New%20York%2C%20NY&ns=1&sortby=recommended'\n",
    "# url_bangkok = 'https://www.tripadvisor.com/Attractions-g293916-Activities-Bangkok.html'\n",
    "# url_london = 'https://www.tripadvisor.com/Attractions-g186338-Activities-London_England.html'\n",
    "# url_dubai = 'https://www.tripadvisor.com/Attractions-g295424-Activities-Dubai_Emirate_of_Dubai.html'\n",
    "# url_singapore = 'https://www.tripadvisor.com/Attractions-g294265-Activities-Singapore.html'\n",
    "# url_paris = 'https://www.tripadvisor.com/Attractions-g187147-Activities-Paris_Ile_de_France.html'\n"
   ]
  },
  {
   "cell_type": "code",
   "execution_count": 3,
   "metadata": {
    "scrolled": false
   },
   "outputs": [],
   "source": [
    "#print(soup.prettify)"
   ]
  },
  {
   "cell_type": "code",
   "execution_count": 4,
   "metadata": {},
   "outputs": [],
   "source": [
    "# usea funciton to get all the data from one page\n",
    "def souping(url):    \n",
    "    response = requests.get(url)\n",
    "    soup = bs(response.text,'html.parser')\n",
    "    return soup"
   ]
  },
  {
   "cell_type": "code",
   "execution_count": 5,
   "metadata": {},
   "outputs": [],
   "source": [
    "ny_soup = souping(url_ny)\n",
    "#print(ny_soup.prettify())"
   ]
  },
  {
   "cell_type": "code",
   "execution_count": 13,
   "metadata": {},
   "outputs": [],
   "source": [
    "# name results are returned as an iterable list\n",
    "ny_name = ny_soup.find_all('a', class_ = 'lemon--a__373c0__IEZFH link__373c0__29943 link-color--blue-dark__373c0__1mhJo link-size--inherit__373c0__2JXk5')\n"
   ]
  },
  {
   "cell_type": "code",
   "execution_count": 14,
   "metadata": {},
   "outputs": [],
   "source": [
    "# print(ny_name)"
   ]
  },
  {
   "cell_type": "code",
   "execution_count": 15,
   "metadata": {},
   "outputs": [],
   "source": [
    "# get all the name\n",
    "#store the top 30 attraction into a list\n",
    "\n",
    "def find_title(rstrnt_name):\n",
    "    title_list = []\n",
    "    for name in rstrnt_name:\n",
    "        try:\n",
    "            title = name.text\n",
    "\n",
    "            if(title):\n",
    "\n",
    "                title_list.append(title)\n",
    "        except AttributeError as e:\n",
    "            print(e)\n",
    "\n",
    "    return title_list"
   ]
  },
  {
   "cell_type": "code",
   "execution_count": 91,
   "metadata": {},
   "outputs": [],
   "source": [
    "ny_title = find_title(ny_name)\n",
    "#print(ny_title)"
   ]
  },
  {
   "cell_type": "code",
   "execution_count": 26,
   "metadata": {},
   "outputs": [],
   "source": [
    "def clean_title(titles):\n",
    "    cleaned_list = []\n",
    "    for title in titles:\n",
    "        if title !=\"read more\":\n",
    "            cleaned_list.append(title)\n",
    "    return cleaned_list[1:31]\n",
    "        "
   ]
  },
  {
   "cell_type": "code",
   "execution_count": 90,
   "metadata": {},
   "outputs": [],
   "source": [
    "ny_title_cleaned = clean_title(ny_title) \n",
    "#print(ny_title_cleaned)\n",
    "#len(ny_title_cleaned)"
   ]
  },
  {
   "cell_type": "code",
   "execution_count": 34,
   "metadata": {},
   "outputs": [],
   "source": [
    "def add_finder(city_soup):\n",
    "\n",
    "    # find add\n",
    "    adds = city_soup.find_all('p', class_=\"lemon--p__373c0__3Qnnj text__373c0__2pB8f text-color--normal__373c0__K_MKN text-align--right__373c0__3ARv7\")\n",
    "    #print(result_review)\n",
    "    add_list = []\n",
    "    for add in adds:\n",
    "        add_list.append(add.text)\n",
    "\n",
    "    \n",
    "    return add_list"
   ]
  },
  {
   "cell_type": "code",
   "execution_count": 88,
   "metadata": {},
   "outputs": [],
   "source": [
    "ny_add = add_finder(ny_soup)\n",
    "#ny_add"
   ]
  },
  {
   "cell_type": "code",
   "execution_count": 84,
   "metadata": {},
   "outputs": [],
   "source": [
    "# find the add from the list\n",
    "def add_cleaner(adds):\n",
    "    add_list = adds[1::]\n",
    "    \n",
    "    add_cleaned = []\n",
    "    for i in range(1,31):\n",
    "        add_cleaned.append(add_list[3*i+1])\n",
    "\n",
    "    return add_cleaned\n",
    "        "
   ]
  },
  {
   "cell_type": "code",
   "execution_count": 89,
   "metadata": {},
   "outputs": [
    {
     "name": "stdout",
     "output_type": "stream",
     "text": [
      "30\n"
     ]
    }
   ],
   "source": [
    "\n",
    "ny_add_clean = add_cleaner(ny_add)\n",
    "print(len(ny_add_clean))\n",
    "#ny_add_clean\n"
   ]
  },
  {
   "cell_type": "code",
   "execution_count": null,
   "metadata": {},
   "outputs": [],
   "source": []
  },
  {
   "cell_type": "code",
   "execution_count": 95,
   "metadata": {},
   "outputs": [],
   "source": [
    " def review_finder(city_soup):  \n",
    "    # used the same methdo to obtain price for each restaurant \n",
    "    result_review = city_soup.find_all('span', class_=\"lemon--span__373c0__3997G text__373c0__2pB8f reviewCount__373c0__2r4xT text-color--mid__373c0__3G312 text-align--left__373c0__2pnx_\")\n",
    "    #print(result_review)\n",
    "    review_list = []\n",
    "    for review in result_review:\n",
    "        review_list.append(review.text)\n",
    "\n",
    "    return review_list[1::]"
   ]
  },
  {
   "cell_type": "code",
   "execution_count": 98,
   "metadata": {},
   "outputs": [
    {
     "data": {
      "text/plain": [
       "['2624 reviews',\n",
       " '1817 reviews',\n",
       " '4731 reviews',\n",
       " '5328 reviews',\n",
       " '3049 reviews',\n",
       " '1392 reviews',\n",
       " '1317 reviews',\n",
       " '2137 reviews',\n",
       " '1553 reviews',\n",
       " '468 reviews',\n",
       " '829 reviews',\n",
       " '2117 reviews',\n",
       " '428 reviews',\n",
       " '1325 reviews',\n",
       " '854 reviews',\n",
       " '1828 reviews',\n",
       " '1571 reviews',\n",
       " '6001 reviews',\n",
       " '597 reviews',\n",
       " '174 reviews',\n",
       " '659 reviews',\n",
       " '1871 reviews',\n",
       " '702 reviews',\n",
       " '415 reviews',\n",
       " '491 reviews',\n",
       " '2432 reviews',\n",
       " '1439 reviews',\n",
       " '540 reviews',\n",
       " '2085 reviews',\n",
       " '1900 reviews']"
      ]
     },
     "execution_count": 98,
     "metadata": {},
     "output_type": "execute_result"
    }
   ],
   "source": [
    "ny_restaurant_reviews = review_finder(ny_soup)\n",
    "ny_restaurant_reviews\n"
   ]
  },
  {
   "cell_type": "code",
   "execution_count": 101,
   "metadata": {},
   "outputs": [],
   "source": [
    "#store data to a object export to mongodb later\n",
    "ny_restaurant = {\n",
    "    \"name\":ny_title,\n",
    "    \"reviews\":ny_restaurant_reviews,\n",
    "    \"address\":ny_add_clean\n",
    "}"
   ]
  },
  {
   "cell_type": "code",
   "execution_count": 103,
   "metadata": {},
   "outputs": [
    {
     "data": {
      "text/plain": [
       "{'name': ['Westfield World Trade Center',\n",
       "  'read more',\n",
       "  'Amélie',\n",
       "  'read more',\n",
       "  'Upstate',\n",
       "  'read more',\n",
       "  'LoveMama',\n",
       "  'read more',\n",
       "  'Burger & Lobster',\n",
       "  'read more',\n",
       "  'Thai Villa',\n",
       "  'read more',\n",
       "  'Aunt Jake’s',\n",
       "  'read more',\n",
       "  'Ipanema Restaurant',\n",
       "  'read more',\n",
       "  'Bogota Latin Bistro',\n",
       "  'read more',\n",
       "  'Barn Joo',\n",
       "  'read more',\n",
       "  'Uglyduckling',\n",
       "  'read more',\n",
       "  'Paesano of Mulberry Street',\n",
       "  'read more',\n",
       "  'Juliana’s Pizza',\n",
       "  'read more',\n",
       "  'Salt + Charcoal',\n",
       "  'read more',\n",
       "  'Boucherie West Village',\n",
       "  'read more',\n",
       "  'Gelso & Grand',\n",
       "  'read more',\n",
       "  'Barn Joo 35',\n",
       "  'read more',\n",
       "  'Pig and Khao',\n",
       "  'read more',\n",
       "  'Joe’s Shanghai',\n",
       "  'read more',\n",
       "  'nonono',\n",
       "  'read more',\n",
       "  'Chama Mama',\n",
       "  'read more',\n",
       "  'Atrium Dumbo',\n",
       "  'read more',\n",
       "  'Alta',\n",
       "  'read more',\n",
       "  'Somtum Der',\n",
       "  'read more',\n",
       "  'Balzem',\n",
       "  'read more',\n",
       "  'Antica Ristorante',\n",
       "  'read more',\n",
       "  'Bea',\n",
       "  'read more',\n",
       "  'The MasalaWala',\n",
       "  'read more',\n",
       "  'Fishmarket Restaurant',\n",
       "  'read more',\n",
       "  'Soco',\n",
       "  'read more',\n",
       "  'Toloache 50',\n",
       "  'read more',\n",
       "  'More Topics',\n",
       "  'Some Data By Acxiom'],\n",
       " 'reviews': ['2624 reviews',\n",
       "  '1817 reviews',\n",
       "  '4731 reviews',\n",
       "  '5328 reviews',\n",
       "  '3049 reviews',\n",
       "  '1392 reviews',\n",
       "  '1317 reviews',\n",
       "  '2137 reviews',\n",
       "  '1553 reviews',\n",
       "  '468 reviews',\n",
       "  '829 reviews',\n",
       "  '2117 reviews',\n",
       "  '428 reviews',\n",
       "  '1325 reviews',\n",
       "  '854 reviews',\n",
       "  '1828 reviews',\n",
       "  '1571 reviews',\n",
       "  '6001 reviews',\n",
       "  '597 reviews',\n",
       "  '174 reviews',\n",
       "  '659 reviews',\n",
       "  '1871 reviews',\n",
       "  '702 reviews',\n",
       "  '415 reviews',\n",
       "  '491 reviews',\n",
       "  '2432 reviews',\n",
       "  '1439 reviews',\n",
       "  '540 reviews',\n",
       "  '2085 reviews',\n",
       "  '1900 reviews'],\n",
       " 'address': ['22 W 8th St',\n",
       "  '95 1st Ave',\n",
       "  '174 2nd Ave',\n",
       "  '39 W 19th St',\n",
       "  '5 E 19th St',\n",
       "  '149 Mulberry St',\n",
       "  '43 W 46th St',\n",
       "  '141 5th Ave',\n",
       "  '35 Union Sq W',\n",
       "  '166 Smith St',\n",
       "  '136 Mulberry St',\n",
       "  '19 Old Fulton St',\n",
       "  '171 Grand St',\n",
       "  '99 7th Ave S',\n",
       "  '186 Grand St',\n",
       "  '34 W 35th St',\n",
       "  '68 Clinton St',\n",
       "  '9 Pell St',\n",
       "  '118 Madison Ave',\n",
       "  '149 W 14th St',\n",
       "  '15 Main St',\n",
       "  '64 W 10th St',\n",
       "  '85 Ave A',\n",
       "  '202 Mott St',\n",
       "  '8 Stone St',\n",
       "  '403 W 43rd St',\n",
       "  '179 Essex St',\n",
       "  '111 South St',\n",
       "  '509 Myrtle Ave',\n",
       "  '251 West 50th St']}"
      ]
     },
     "execution_count": 103,
     "metadata": {},
     "output_type": "execute_result"
    }
   ],
   "source": []
  },
  {
   "cell_type": "code",
   "execution_count": 104,
   "metadata": {},
   "outputs": [],
   "source": [
    "with open('ny_restaurant.json', 'w') as ny:\n",
    "    json.dump(ny_restaurant, ny)"
   ]
  },
  {
   "cell_type": "code",
   "execution_count": null,
   "metadata": {},
   "outputs": [],
   "source": []
  }
 ],
 "metadata": {
  "kernelspec": {
   "display_name": "Python 3",
   "language": "python",
   "name": "python3"
  },
  "language_info": {
   "codemirror_mode": {
    "name": "ipython",
    "version": 3
   },
   "file_extension": ".py",
   "mimetype": "text/x-python",
   "name": "python",
   "nbconvert_exporter": "python",
   "pygments_lexer": "ipython3",
   "version": "3.6.8"
  }
 },
 "nbformat": 4,
 "nbformat_minor": 2
}
