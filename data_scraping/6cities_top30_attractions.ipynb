{
 "cells": [
  {
   "cell_type": "markdown",
   "metadata": {},
   "source": [
    "# New York Top Atractions"
   ]
  },
  {
   "cell_type": "code",
   "execution_count": 1,
   "metadata": {},
   "outputs": [],
   "source": [
    "# import library \n",
    "from bs4 import BeautifulSoup as bs\n",
    "import requests\n",
    "import json\n"
   ]
  },
  {
   "cell_type": "code",
   "execution_count": 7,
   "metadata": {},
   "outputs": [],
   "source": [
    "# tripadviser url/retrieve page with the requests module/parse with 'html.parser\n",
    "url_ny= 'https://www.tripadvisor.com/Attractions-g60763-Activities-New_York_City_New_York.html'\n",
    "url_bangkok = 'https://www.tripadvisor.com/Attractions-g293916-Activities-Bangkok.html'\n",
    "url_london = 'https://www.tripadvisor.com/Attractions-g186338-Activities-London_England.html'\n",
    "url_dubai = 'https://www.tripadvisor.com/Attractions-g295424-Activities-Dubai_Emirate_of_Dubai.html'\n",
    "url_singapore = 'https://www.tripadvisor.com/Attractions-g294265-Activities-Singapore.html'\n",
    "url_paris = 'https://www.tripadvisor.com/Attractions-g187147-Activities-Paris_Ile_de_France.html'\n",
    "\n",
    "def souping(url):    \n",
    "    response = requests.get(url)\n",
    "    soup = bs(response.text,'html.parser')\n",
    "    return soup\n",
    "   \n",
    "ny_soup = souping(url_ny)\n",
    "bangkok_soup = souping(url_bangkok)\n",
    "london_soup = souping(url_london)\n",
    "dubai_soup = souping(url_dubai)\n",
    "singapore_soup =souping(url_singapore)\n",
    "paris_soup = souping(url_paris)"
   ]
  },
  {
   "cell_type": "code",
   "execution_count": 3,
   "metadata": {},
   "outputs": [],
   "source": [
    "# examine the data\n",
    "#print(ny_soup.prettify())"
   ]
  },
  {
   "cell_type": "code",
   "execution_count": 8,
   "metadata": {},
   "outputs": [],
   "source": [
    "# name results are returned as an iterable list\n",
    "ny_name = ny_soup.find_all('a', class_=\"attractions-attraction-overview-pois-PoiInfo__name--SJ0a4\")\n",
    "bangkok_name = bangkok_soup.find_all('a', class_=\"attractions-attraction-overview-pois-PoiInfo__name--SJ0a4\")\n",
    "london_name = london_soup.find_all('a', class_=\"attractions-attraction-overview-pois-PoiInfo__name--SJ0a4\")\n",
    "dubai_name = dubai_soup.find_all('a', class_=\"attractions-attraction-overview-pois-PoiInfo__name--SJ0a4\")\n",
    "singapore_name = singapore_soup.find_all('a', class_=\"attractions-attraction-overview-pois-PoiInfo__name--SJ0a4\")\n",
    "paris_name = paris_soup.find_all('a', class_=\"attractions-attraction-overview-pois-PoiInfo__name--SJ0a4\")\n",
    "#print(result_name)\n",
    "\n",
    "    "
   ]
  },
  {
   "cell_type": "code",
   "execution_count": 5,
   "metadata": {},
   "outputs": [],
   "source": [
    "# get all the name\n",
    "#store the top 30 attraction into a list\n",
    "\n",
    "def find_title(city_name):\n",
    "    title_list = []\n",
    "    for name in city_name:\n",
    "        try:\n",
    "            title = name.text\n",
    "\n",
    "            if(title):\n",
    "\n",
    "                title_list.append(title)\n",
    "        except AttributeError as e:\n",
    "            print(e)\n",
    "\n",
    "    return title_list\n"
   ]
  },
  {
   "cell_type": "code",
   "execution_count": 13,
   "metadata": {},
   "outputs": [],
   "source": [
    "# store top30 attractions title to variable\n",
    "ny_title = find_title(ny_name)\n",
    "bangkok_title = find_title(bangkok_name)\n",
    "london_title = find_title(london_name)\n",
    "dubai_title = find_title(dubai_name)\n",
    "singapore_title = find_title(singapore_name)\n",
    "paris_title = find_title(paris_name)\n",
    "\n"
   ]
  },
  {
   "cell_type": "code",
   "execution_count": 22,
   "metadata": {},
   "outputs": [],
   "source": [
    "# create a function to scrap reviews in the bs\n",
    "def review_finder(city_soup):\n",
    "\n",
    "    # used the same methdo to obtain price for each attraction \n",
    "    result_review = city_soup.find_all('span', class_=\"eSyRcsra\")\n",
    "    #print(result_review)\n",
    "    review_list = []\n",
    "    for review in result_review:\n",
    "        review_list.append(review.text)\n",
    "\n",
    "    review_list_filtered = review_list[16:46]\n",
    "    return review_list_filtered\n",
    "    \n"
   ]
  },
  {
   "cell_type": "code",
   "execution_count": 24,
   "metadata": {},
   "outputs": [],
   "source": [
    "# store the reviews to seperate variables\n",
    "ny_review = review_finder(ny_soup)\n",
    "bangkok_review = review_finder(bangkok_soup)\n",
    "london_review = review_finder(london_soup)\n",
    "dubai_review = review_finder(dubai_soup)\n",
    "singapore_review = review_finder(singapore_soup)\n",
    "paris_review = review_finder(paris_soup)\n",
    "\n"
   ]
  },
  {
   "cell_type": "code",
   "execution_count": 28,
   "metadata": {},
   "outputs": [],
   "source": [
    "#store data to a object export to mongodb later\n",
    "ny_top30 = {\n",
    "    \"attractions\":ny_title,\n",
    "    \"reviews\":ny_review\n",
    "}\n"
   ]
  },
  {
   "cell_type": "code",
   "execution_count": 30,
   "metadata": {
    "scrolled": true
   },
   "outputs": [],
   "source": [
    "bangkok_top30 = {\n",
    "    \"attractions\":bangkok_title,\n",
    "    \"reviews\":bangkok_review\n",
    "}\n"
   ]
  },
  {
   "cell_type": "code",
   "execution_count": 35,
   "metadata": {},
   "outputs": [],
   "source": [
    "london_top30 = {\n",
    "    \"attractions\":london_title,\n",
    "    \"reviews\":london_review\n",
    "}\n"
   ]
  },
  {
   "cell_type": "code",
   "execution_count": 37,
   "metadata": {},
   "outputs": [],
   "source": [
    "dubai_top30 = {\n",
    "    \"attractions\":dubai_title,\n",
    "    \"reviews\":dubai_review\n",
    "}\n"
   ]
  },
  {
   "cell_type": "code",
   "execution_count": 40,
   "metadata": {},
   "outputs": [],
   "source": [
    "singapore_top30 = {\n",
    "    \"attractions\":singapore_title,\n",
    "    \"reviews\":singapore_review\n",
    "}\n"
   ]
  },
  {
   "cell_type": "code",
   "execution_count": 42,
   "metadata": {},
   "outputs": [],
   "source": [
    "paris_top30 = {\n",
    "    \"attractions\":paris_title,\n",
    "    \"reviews\":paris_review\n",
    "}\n"
   ]
  },
  {
   "cell_type": "code",
   "execution_count": 44,
   "metadata": {},
   "outputs": [],
   "source": [
    "# export data to a json file\n",
    "\n",
    "# with open('ny_attraction.json', 'w') as ny:\n",
    "#     json.dump(ny_top30, ny)\n",
    "# with open('bangkok_attraction.json', 'w') as bk:\n",
    "#     json.dump(bangkok_top30, bk)\n",
    "# with open('london_attraction.json', 'w') as ld:\n",
    "#     json.dump(london_top30, ld)\n",
    "# with open('dubai_attraction.json', 'w') as db:\n",
    "#     json.dump(dubai_top30, db)\n",
    "# with open('singapore_attraction.json', 'w') as sp:\n",
    "#     json.dump(singapore_top30, sp)\n",
    "# with open('paris_attraction.json', 'w') as ps:\n",
    "#     json.dump(paris_top30, ps)"
   ]
  },
  {
   "cell_type": "code",
   "execution_count": null,
   "metadata": {},
   "outputs": [],
   "source": []
  }
 ],
 "metadata": {
  "kernelspec": {
   "display_name": "Python 3",
   "language": "python",
   "name": "python3"
  },
  "language_info": {
   "codemirror_mode": {
    "name": "ipython",
    "version": 3
   },
   "file_extension": ".py",
   "mimetype": "text/x-python",
   "name": "python",
   "nbconvert_exporter": "python",
   "pygments_lexer": "ipython3",
   "version": "3.7.1"
  }
 },
 "nbformat": 4,
 "nbformat_minor": 2
}
